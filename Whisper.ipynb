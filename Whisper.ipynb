{
  "nbformat": 4,
  "nbformat_minor": 0,
  "metadata": {
    "colab": {
      "provenance": [],
      "authorship_tag": "ABX9TyNtqx47LCYIwUNvbBJkhrE7",
      "include_colab_link": true
    },
    "kernelspec": {
      "name": "python3",
      "display_name": "Python 3"
    },
    "language_info": {
      "name": "python"
    },
    "accelerator": "GPU",
    "gpuClass": "standard"
  },
  "cells": [
    {
      "cell_type": "markdown",
      "metadata": {
        "id": "view-in-github",
        "colab_type": "text"
      },
      "source": [
        "<a href=\"https://colab.research.google.com/github/jsbsan/whisper/blob/main/Whisper.ipynb\" target=\"_parent\"><img src=\"https://colab.research.google.com/assets/colab-badge.svg\" alt=\"Open In Colab\"/></a>"
      ]
    },
    {
      "cell_type": "code",
      "execution_count": 3,
      "metadata": {
        "colab": {
          "base_uri": "https://localhost:8080/"
        },
        "id": "q5svMOEdtTue",
        "outputId": "559b4e7c-1385-4e8d-8467-099c114bf4df"
      },
      "outputs": [
        {
          "output_type": "stream",
          "name": "stdout",
          "text": [
            "Looking in indexes: https://pypi.org/simple, https://us-python.pkg.dev/colab-wheels/public/simple/\n",
            "Collecting git+https://github.com/openai/whisper.git\n",
            "  Cloning https://github.com/openai/whisper.git to /tmp/pip-req-build-6tmokv6l\n",
            "  Running command git clone --filter=blob:none --quiet https://github.com/openai/whisper.git /tmp/pip-req-build-6tmokv6l\n",
            "  Resolved https://github.com/openai/whisper.git to commit b5851c6c40e753606765ac45b85b298e3ae9e00d\n",
            "  Installing build dependencies ... \u001b[?25l\u001b[?25hdone\n",
            "  Getting requirements to build wheel ... \u001b[?25l\u001b[?25hdone\n",
            "  Preparing metadata (pyproject.toml) ... \u001b[?25l\u001b[?25hdone\n",
            "Requirement already satisfied: numba in /usr/local/lib/python3.9/dist-packages (from openai-whisper==20230314) (0.56.4)\n",
            "Requirement already satisfied: tiktoken==0.3.1 in /usr/local/lib/python3.9/dist-packages (from openai-whisper==20230314) (0.3.1)\n",
            "Requirement already satisfied: more-itertools in /usr/local/lib/python3.9/dist-packages (from openai-whisper==20230314) (9.1.0)\n",
            "Requirement already satisfied: ffmpeg-python==0.2.0 in /usr/local/lib/python3.9/dist-packages (from openai-whisper==20230314) (0.2.0)\n",
            "Requirement already satisfied: tqdm in /usr/local/lib/python3.9/dist-packages (from openai-whisper==20230314) (4.65.0)\n",
            "Requirement already satisfied: triton==2.0.0 in /usr/local/lib/python3.9/dist-packages (from openai-whisper==20230314) (2.0.0)\n",
            "Requirement already satisfied: numpy in /usr/local/lib/python3.9/dist-packages (from openai-whisper==20230314) (1.22.4)\n",
            "Requirement already satisfied: torch in /usr/local/lib/python3.9/dist-packages (from openai-whisper==20230314) (1.13.1+cu116)\n",
            "Requirement already satisfied: future in /usr/local/lib/python3.9/dist-packages (from ffmpeg-python==0.2.0->openai-whisper==20230314) (0.18.3)\n",
            "Requirement already satisfied: requests>=2.26.0 in /usr/local/lib/python3.9/dist-packages (from tiktoken==0.3.1->openai-whisper==20230314) (2.27.1)\n",
            "Requirement already satisfied: regex>=2022.1.18 in /usr/local/lib/python3.9/dist-packages (from tiktoken==0.3.1->openai-whisper==20230314) (2022.10.31)\n",
            "Requirement already satisfied: cmake in /usr/local/lib/python3.9/dist-packages (from triton==2.0.0->openai-whisper==20230314) (3.25.2)\n",
            "Requirement already satisfied: lit in /usr/local/lib/python3.9/dist-packages (from triton==2.0.0->openai-whisper==20230314) (16.0.0)\n",
            "Requirement already satisfied: filelock in /usr/local/lib/python3.9/dist-packages (from triton==2.0.0->openai-whisper==20230314) (3.10.7)\n",
            "Requirement already satisfied: llvmlite<0.40,>=0.39.0dev0 in /usr/local/lib/python3.9/dist-packages (from numba->openai-whisper==20230314) (0.39.1)\n",
            "Requirement already satisfied: setuptools in /usr/local/lib/python3.9/dist-packages (from numba->openai-whisper==20230314) (67.6.1)\n",
            "Requirement already satisfied: typing-extensions in /usr/local/lib/python3.9/dist-packages (from torch->openai-whisper==20230314) (4.5.0)\n",
            "Requirement already satisfied: idna<4,>=2.5 in /usr/local/lib/python3.9/dist-packages (from requests>=2.26.0->tiktoken==0.3.1->openai-whisper==20230314) (3.4)\n",
            "Requirement already satisfied: certifi>=2017.4.17 in /usr/local/lib/python3.9/dist-packages (from requests>=2.26.0->tiktoken==0.3.1->openai-whisper==20230314) (2022.12.7)\n",
            "Requirement already satisfied: urllib3<1.27,>=1.21.1 in /usr/local/lib/python3.9/dist-packages (from requests>=2.26.0->tiktoken==0.3.1->openai-whisper==20230314) (1.26.15)\n",
            "Requirement already satisfied: charset-normalizer~=2.0.0 in /usr/local/lib/python3.9/dist-packages (from requests>=2.26.0->tiktoken==0.3.1->openai-whisper==20230314) (2.0.12)\n"
          ]
        }
      ],
      "source": [
        "!pip install git+https://github.com/openai/whisper.git \n"
      ]
    },
    {
      "cell_type": "code",
      "source": [
        "!whisper bombardero.mp3 --model medium --language Spanish\n"
      ],
      "metadata": {
        "colab": {
          "base_uri": "https://localhost:8080/"
        },
        "id": "XodLxiECun17",
        "outputId": "48de2762-5060-4a07-be7b-91809e3741f1"
      },
      "execution_count": 4,
      "outputs": [
        {
          "output_type": "stream",
          "name": "stdout",
          "text": [
            "100%|█████████████████████████████████████| 1.42G/1.42G [00:23<00:00, 64.7MiB/s]\n",
            "[00:00.000 --> 00:02.000]  Entonces dice...\n",
            "[00:02.000 --> 00:07.280]  Además así se aprecian mis entradas, que por cierto creo que me voy a cortar el pelo ya, que ya va siendo hora.\n",
            "[00:07.440 --> 00:13.240]  No sé si le voy a pegar un tijeretazo de precalvo bueno, pero bueno, hay que darle tiempo.\n",
            "[00:16.240 --> 00:20.160]  Bueno, lo que decía. Bueno, ¿qué narices? Vamos a explicar...\n",
            "[00:21.040 --> 00:25.400]  Efectivamente, vamos a explicar lo de... Vale, es que es curioso, en el móvil se ve mucho mejor.\n",
            "[00:26.400 --> 00:28.400]  Interesantemente. Bueno, vamos a explicar\n",
            "[00:29.040 --> 00:34.520]  los tipos de aviones. Así, rapidito, sin muchas complicaciones, porque no lo merece.\n",
            "[00:35.600 --> 00:38.280]  Pero bueno, yo creo que... Vamos a ver.\n",
            "[00:42.480 --> 00:44.480]  Vamos a ver, vamos a ver...\n",
            "[00:46.640 --> 00:52.520]  Por ejemplo, si yo ahora os pongo esto, ¿me estaríais viendo en la pantalla? Sí, sí, lo estáis viendo.\n",
            "[00:53.120 --> 00:54.400]  Perfecto.\n",
            "[00:54.400 --> 00:56.520]  Bueno, pues vamos a empezar ahí, venga.\n",
            "[00:57.520 --> 01:04.920]  Llega la Primera Guerra Mundial, empieza la aviación militar como Dios manda, porque antes sí, hay que reconocer que a veces cogían\n",
            "[01:05.040 --> 01:09.960]  granadas y las arrojaban ahí a ojo, como se está haciendo en Ucrania con los dones, solo que esto lo hacía una persona.\n",
            "[01:10.240 --> 01:14.840]  Ya lo hicieron los italianos en Libia. El primer bombardeo de la historia, creo,\n",
            "[01:15.360 --> 01:20.880]  corregidme algunos si me equivoco, que fue allá por 1908, una cosa así, por parte de la aviación italiana\n",
            "[01:21.720 --> 01:28.080]  arrojando granadas de mano, literalmente, desde biplanos o triplanos. Biplanos serían, ¿no?\n",
            "[01:28.800 --> 01:30.800]  Claro, a medida que van\n",
            "[01:31.400 --> 01:33.400]  apareciendo, va mejorando la tecnología\n",
            "[01:33.680 --> 01:39.240]  aeronáutica, empieza a tener ya una gama amplia de opciones. Ya no es simplemente un aparato que vuela, sino que puedo tener distintos tipos\n",
            "[01:39.240 --> 01:45.680]  de aparatos, un motor más grande, más pequeño, pues lo que supone la maduración tecnológica. Te abre las puertas a tener desde\n",
            "[01:45.840 --> 01:52.560]  el ordenador portátil, al ordenador de torre de sobremesa, al smartphone, pues se amplía la gama de posibilidades\n",
            "[01:53.160 --> 01:56.920]  y de misiones que puedo hacer de manera eficiente, ¿verdad? con una aeronave.\n",
            "[01:57.280 --> 02:02.960]  Entonces, ¿qué empiezan a aparecer? Pues, sobre todo, inicialmente, hay dos tipos de aviones. Al fin y al cabo, tenemos el clásico\n",
            "[02:04.080 --> 02:07.480]  biplano, sobre todo inicialmente, que tiene la función de caza.\n",
            "[02:08.200 --> 02:13.240]  Sabéis que los primeros biplanos, ya un poco serios de combate, pues se caracterizaban por tener una\n",
            "[02:13.440 --> 02:18.840]  ametralladora. Este sistema lo inventó, creo que era Fokker, que era, creo que era de baíses bajos.\n",
            "[02:20.880 --> 02:25.120]  Entonces, claro, ¿cuál era el problema en la aviación inicial de caza? Pues,\n",
            "[02:25.520 --> 02:30.480]  sincronizar las ametralladoras con la hélice, porque, claro, tú tienes aquí la hélice y detrás la ametralladora,\n",
            "[02:30.960 --> 02:33.800]  como disparas sin destruir tu propia hélice.\n",
            "[02:34.360 --> 02:36.080]  Hubo soluciones tan\n",
            "[02:36.080 --> 02:41.880]  ingeniosas como blindar las palas de la hélice y si rebotaban las balas en las palas, pues mira, chico, mala suerte.\n",
            "[02:42.200 --> 02:46.360]  Pero, lógicamente, eso no era muy funcional. Entonces, creo que fue Fokker el primero que logró sincronizar\n",
            "[02:46.800 --> 02:52.600]  el movimiento de las palas con el disparo de la ametralladora. Y ahí tenemos los primeros cazas como tal.\n",
            "[02:52.760 --> 02:58.680]  Pero, como digo, va avanzando la guerra y mejores motores y empieza a haber posibilidades de crear un nuevo tipo de aparato, que al principio\n",
            "[02:58.680 --> 03:06.080]  eran, yo creo, esencialmente triplanos. Bueno, realmente, la función inicial de bombardero se la podemos asignar incluso a los Zeppelins.\n",
            "[03:06.440 --> 03:08.200]  Ya sabéis, los Reitz\n",
            "[03:08.200 --> 03:10.200]  alemanes en la Primera Armada Mundial sobre Londres.\n",
            "[03:10.520 --> 03:14.240]  Pero, bueno, lo importante sobre todo ya es cuando llegan los primeros triplanos en la Segunda Guerra Mundial,\n",
            "[03:14.600 --> 03:20.320]  aparatos enormes, con capacidad para llevar una cantidad importante de explosivos, ¿no?\n",
            "[03:20.440 --> 03:27.600]  Y esto va a ir mejorando mucho y ya sabemos que a partir de los años 30, años 40, pues, bueno, incluso van a aparecer todas las teorías\n",
            "[03:27.600 --> 03:31.760]  del poder aéreo como elemento que va a cambiar la historia, como la,\n",
            "[03:32.080 --> 03:37.920]  bueno, de hecho, las principales teorías del bombardeo aéreo de entre guerras, diría yo, que\n",
            "[03:37.920 --> 03:43.720]  triunfaron en el mundo anglosajón, sobre todo en Estados Unidos, fueron las de Duett, ¿no? Que te decía al final que tú tenías\n",
            "[03:43.720 --> 03:46.120]  que destruir las casas de los obreros alemanes.\n",
            "[03:46.120 --> 03:53.240]  Se trataba un poco de romper el espíritu de la nación, porque lo veían en términos muy espirituales, ¿no? El nacionalismo de aquella época no es el,\n",
            "[03:53.680 --> 04:01.880]  tiene un matiz distinto del que lo entendemos hoy por nacionalismo. El nacionalismo de aquella época era muy romántico, era muy espiritual, era muy de\n",
            "[04:02.520 --> 04:04.520]  inspirarse en el medievo, ¿no?\n",
            "[04:04.640 --> 04:06.640]  Por ejemplo,\n",
            "[04:06.680 --> 04:10.880]  pensad en Cataluña, pensad en el separatismo en Cataluña, ¿qué\n",
            "[04:11.480 --> 04:14.880]  está íntimamente ligado al separatismo? Pues los clubs de montaña.\n",
            "[04:15.400 --> 04:17.400]  Parece una tontería, ¿por qué? Porque el\n",
            "[04:17.920 --> 04:19.920]  romanticismo nacionalista\n",
            "[04:19.920 --> 04:25.480]  idealizaba la montaña, la vuelta al medievo, por eso si para nadie es el separatismo catalán, como cualquier otro,\n",
            "[04:25.560 --> 04:31.600]  vais a ver que toma todas esas referencias. Hoy día el matiz que le damos es distinto, el que se le daba hace un siglo,\n",
            "[04:31.960 --> 04:33.920]  pero el matiz de hace un siglo\n",
            "[04:33.920 --> 04:39.280]  condicionó las teorías del poder aéreo, ¿no? Pero bueno, esto es algo secundario. Lo importante, ¿qué es?\n",
            "[04:40.080 --> 04:46.680]  Que a partir de la Segunda Guerra Mundial triunfa todo aquello y empezaron a aparecer todas estas máquinas, ¿no? Primero estos más\n",
            "[04:47.040 --> 04:54.120]  pequeñitos, como los Flying Fortress, ya estos son señores bombarderos, los Lancaster, que emplean los británicos, los Heinkel 111, que son\n",
            "[04:54.720 --> 04:57.960]  principalmente bombarderos, bombarderos medios, pero\n",
            "[04:59.160 --> 05:00.880]  realmente\n",
            "[05:00.880 --> 05:06.760]  el asunto es que el bombardero entra en decadencia a partir de la Guerra Fría, es decir, realmente,\n",
            "[05:07.600 --> 05:10.400]  ¿por qué? Pues porque, fijaros, esto no es más que un avión de transporte\n",
            "[05:11.480 --> 05:15.560]  militar, pintado de negro, si quieres, es decir, esto es muy fácil de derribar.\n",
            "[05:16.200 --> 05:21.480]  Entonces, claro, ¿te merece la pena tener un avión de estas características para arrojar grandes cantidades de bombas?\n",
            "[05:21.600 --> 05:25.680]  No, no en la mayor parte de los países. ¿Quién sí conserva bombarderos?\n",
            "[05:26.200 --> 05:30.040]  Pues conserva bombarderos tres, cuatro naciones.\n",
            "[05:30.680 --> 05:31.880]  Uno,\n",
            "[05:31.880 --> 05:35.520]  Estados Unidos, que es el que más tiene, tiene tres modelos distintos.\n",
            "[05:36.120 --> 05:40.760]  Segundo, Rusia, que es el que más tiene también, tiene otros tres modelos distintos.\n",
            "[05:41.360 --> 05:43.680]  Tercero, China, que mantiene el...\n",
            "[05:44.320 --> 05:50.960]  joder, no me saldrá, el H6, el H6 que tengo un vídeo en el canal de los más vistos y populares, que te explico el H6,\n",
            "[05:51.520 --> 05:57.640]  yo creo que bastante bien, y es un bombardero que tiene mucha miga, porque incluso hay una versión de bombardero naval.\n",
            "[05:58.160 --> 06:02.320]  Lo que pasa es que el chino está basado en el Tupolev 16, pero es cierto que los chinos,\n",
            "[06:02.680 --> 06:04.680]  no sé cómo se iba a llamar el...\n",
            "[06:05.560 --> 06:12.720]  no sé, no recuerdo ahora mismo el nombre, pero los chinos están ya trabajando en otro bombardero furtivo, además, para sustituir al H6, o sea que\n",
            "[06:12.840 --> 06:17.440]  los chinos van a mantener los bombarderos que ellos tienen en servicio.\n",
            "[06:18.200 --> 06:19.360]  Vale.\n",
            "[06:19.360 --> 06:25.980]  Y por último, ¿quién puede tener aún? Creo que técnicamente es posible que hay unos Tupolev 8, un bombardero medio,\n",
            "[06:26.180 --> 06:28.780]  curiosamente, que podría tener aún Corea del Norte,\n",
            "[06:29.100 --> 06:35.020]  pero el resto de países del mundo se han deshecho, los últimos yo creo que fueron los británicos, de los Abro y todos esos, tenían\n",
            "[06:35.020 --> 06:37.820]  también los Vulcan, que se usaron en Malvinas y tal.\n",
            "[06:38.300 --> 06:45.380]  Pero bueno, el asunto del bombardero, ¿cuál es? Que el punto eficiente de llevar tantas bombas se perdió cuando aparecieron cazabombarderos\n",
            "[06:45.460 --> 06:53.780]  con grandes rangos de distancia, con gran velocidad y con capacidad para aportar suficiente armamento, ¿no? Entonces, este tipo de plataformas pierden mucho sentido.\n",
            "[06:53.780 --> 06:55.100]  Ahora bien,\n",
            "[06:55.100 --> 07:00.020]  si eres un país grande, con una fuerza aérea grande, aún tienen sentido. ¿Por qué? Primero, porque tienen una autonomía\n",
            "[07:00.460 --> 07:05.660]  tremendamente amplia. Segundo, porque te permiten conformar la triada nuclear, es decir, me permiten tener\n",
            "[07:05.940 --> 07:11.980]  armas nucleares en tierra, en mar y en aire. Y en aire, si yo creo una fortaleza\n",
            "[07:12.300 --> 07:19.060]  de defensa aérea, es decir, combino mis medios de defensa antiaérea con mi fuerza de caza, puedo crear un espacio\n",
            "[07:19.740 --> 07:24.980]  seguro, perfectamente seguro para mis bombarderos, de tal manera que puedan estar ahí dando vueltas\n",
            "[07:25.180 --> 07:31.780]  y si hay que hacer un ataque nuclear, pues lanzarlo desde ese punto, por ejemplo, ¿no? En todo caso, es una medida muy flexible.\n",
            "[07:31.780 --> 07:36.860]  ¿Qué más me aporta un bombardero en una guerra nuclear? El submarino, si tiene que lanzar el ataque nuclear,\n",
            "[07:37.460 --> 07:43.740]  si estás en una guerra nuclear, tienes poco tiempo. Entonces, el submarino, ¿cuántos nudos se puede mover antes de lanzar su ataque?\n",
            "[07:43.740 --> 07:51.100]  Pocos. Por tanto, puede maniobrar poco. Más o menos, si sé por dónde anda el submarino, puedo saber más o menos desde dónde me va a lanzar\n",
            "[07:51.100 --> 07:58.300]  sus misiles. Un silo de misiles o un camión, por mucho que se mueva un camión en un día que se puede mover 300 kilómetros.\n",
            "[07:58.740 --> 08:05.220]  Puedo más o menos intuir de dónde me van a venir los misiles que dispare el camión con misiles, pero un bombardero que se te mueve\n",
            "[08:05.220 --> 08:07.220]  en unas horas miles de kilómetros,\n",
            "[08:07.500 --> 08:14.100]  pues puede maniobrar y puede lanzarte los misiles desde muchas direcciones distintas. Entonces, desde el punto de vista de la guerra nuclear, me da una ventaja\n",
            "[08:14.100 --> 08:15.140]  grande.\n",
            "[08:15.140 --> 08:20.100]  Segundo punto, guerra convencional, lanzamiento de misiles de largo alcance, tal y como lo estamos viendo hacer,\n",
            "[08:20.580 --> 08:29.020]  a Rusia. Bueno, pues los bombarderos modernos, muchos se les ha habilitado ya para que lleven misiles. De hecho, el Tupolev 95, que es un diseño\n",
            "[08:29.540 --> 08:37.100]  que vamos, mira, es más, os lo voy a buscar exactamente de cuándo es el Tupolev 95, que por cierto a mí me encanta. Es el último bombardero,\n",
            "[08:37.100 --> 08:43.100]  bueno, no junto al Tup. Sí, es el único bombardero del mundo que funciona con hélices todavía, ¿vale?\n",
            "[08:43.380 --> 08:50.020]  Entonces, está muy bien. Es de primer vuelo, 1952, ¿vale? Es decir, estamos hablando de una plataforma que tiene 70 años.\n",
            "[08:51.100 --> 08:54.900]  Y bueno, os lo voy a poner para que lo veáis, porque la verdad es que, además de todo, es\n",
            "[08:55.660 --> 09:00.300]  precioso, es muy bonito. O al menos a mí me gusta mucho esa figura tan,\n",
            "[09:00.900 --> 09:04.140]  bueno, al menos a mí me lo parece, ¿no? Tan estilizada que tiene, ¿no?\n",
            "[09:05.540 --> 09:12.340]  Entonces, este bombardero ha sido actualizado hasta hoy y este bombardero dentro tiene un cargador de revólver, de tal manera que,\n",
            "[09:12.660 --> 09:14.660]  al abrir la barriga del avión,\n",
            "[09:14.980 --> 09:22.220]  deja caer un misil, el revólver gira, deja caer el siguiente misil, gira otra vez, deja caer el siguiente misil, así creo que puede llevar\n",
            "[09:22.220 --> 09:27.460]  entre 8 y 12-16, dependiendo de los distintos bombarderos rusos, ¿vale?\n",
            "[09:27.860 --> 09:31.140]  Pero, ¿por qué es interesante esto nuevamente? Porque si yo voy a atacar,\n",
            "[09:32.180 --> 09:38.420]  nuevamente yo voy a lanzar, y esto del próximo vídeo este domingo va a tratar sobre esto, si yo voy a lanzarle a Ucrania misiles,\n",
            "[09:39.420 --> 09:45.900]  misiles, parece una tontería, ¿verdad? Pero si yo sé que van a venir más o menos de Rusia o de Bielorrusia,\n",
            "[09:46.380 --> 09:48.260]  pues es más predecible\n",
            "[09:48.260 --> 09:50.620]  establecer rutas de aproximación y\n",
            "[09:51.660 --> 09:53.660]  ubicar ahí, concentrar ahí mi defensa aérea.\n",
            "[09:53.740 --> 09:58.500]  Pero claro, si un bombardero desde cualquier punto del Mar Negro, o casi cualquier punto del Mar Negro,\n",
            "[09:58.780 --> 10:05.580]  o incluso desde el espacio aéreo bielorruso más alejado, puede lanzarme una andanada de 8 misiles, cada uno,\n",
            "[10:05.900 --> 10:08.700]  pues entonces tengo un problema, porque va a ser mucho más difícil,\n",
            "[10:09.540 --> 10:15.900]  voy a tener que cubrir mucho más territorio, los misiles me pueden llegar de más lugares, y estos bombarderos pueden dar muchos rodeos,\n",
            "[10:16.100 --> 10:18.860]  y pueden hacerte dudar mucho, y pueden hacerte pensar,\n",
            "[10:19.260 --> 10:22.580]  puedes usar los diseñuelos, yo dejo que estoy a una distancia\n",
            "[10:23.020 --> 10:28.140]  prudencial, que sepa o estime que me estás detectando al bombardero, pero no puedes derribármelo,\n",
            "[10:28.580 --> 10:33.300]  y yo estoy por ahí dando vueltas, tú sabes que hay ahí un bombardero que es día de ataque con misiles,\n",
            "[10:33.780 --> 10:38.580]  y no sabes si va a venir por ahí el ataque, o qué está haciendo ese bombardero, o sea que lo puedes usar como\n",
            "[10:38.580 --> 10:41.740]  diseñuelo, te dan muchas más opciones que un caza en ese sentido.\n",
            "[10:42.300 --> 10:48.460]  Por último, aviación naval, las vastas extensiones de océano Atlántico, de océano Pacífico, de océano Índico,\n",
            "[10:48.900 --> 10:52.380]  con un avión de estas características las cubres, con un no normal no.\n",
            "[10:53.780 --> 11:00.940]  Pero bueno, por tanto aquí queda claro, el primer tipo, bombardero, vale, siguiente tipología que podemos encontrar,\n"
          ]
        }
      ]
    }
  ]
}